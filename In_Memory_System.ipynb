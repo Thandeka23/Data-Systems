{
 "cells": [
  {
   "cell_type": "code",
   "execution_count": 4,
   "metadata": {},
   "outputs": [
    {
     "name": "stdout",
     "output_type": "stream",
     "text": [
      "Redis: Key1 -> value1\n",
      "Redis List: ['item1', 'item2', 'item3']\n"
     ]
    }
   ],
   "source": [
    "import redis\n",
    "\n",
    "# Connect to Redis\n",
    "redis_client = redis.Redis(host='localhost', port=6379, db=0)\n",
    "\n",
    "# Set and Get a Key-Value Pair\n",
    "redis_client.set('key1', 'value1')\n",
    "value = redis_client.get('key1')\n",
    "print(f\"Redis: Key1 -> {value.decode()}\")  # Output: Redis: Key1 -> value1\n",
    "\n",
    "# Using a List\n",
    "redis_client.rpush('mylist', 'item1', 'item2', 'item3')\n",
    "items = redis_client.lrange('mylist', 0, -1)\n",
    "print(f\"Redis List: {[item.decode() for item in items]}\")\n",
    "\n"
   ]
  },
  {
   "cell_type": "code",
   "execution_count": 5,
   "metadata": {},
   "outputs": [
    {
     "name": "stdout",
     "output_type": "stream",
     "text": [
      "Collecting pymemcache\n",
      "  Downloading pymemcache-4.0.0-py2.py3-none-any.whl (60 kB)\n",
      "                                              0.0/60.8 kB ? eta -:--:--\n",
      "     --------------------------               41.0/60.8 kB ? eta -:--:--\n",
      "     --------------------------               41.0/60.8 kB ? eta -:--:--\n",
      "     -------------------------------------- 60.8/60.8 kB 543.4 kB/s eta 0:00:00\n",
      "Installing collected packages: pymemcache\n",
      "Successfully installed pymemcache-4.0.0\n",
      "Note: you may need to restart the kernel to use updated packages.\n"
     ]
    },
    {
     "name": "stderr",
     "output_type": "stream",
     "text": [
      "\n",
      "[notice] A new release of pip is available: 23.1.2 -> 24.3.1\n",
      "[notice] To update, run: python.exe -m pip install --upgrade pip\n"
     ]
    }
   ],
   "source": [
    "pip install  pymemcache"
   ]
  },
  {
   "cell_type": "code",
   "execution_count": 6,
   "metadata": {},
   "outputs": [
    {
     "ename": "ConnectionRefusedError",
     "evalue": "[WinError 10061] No connection could be made because the target machine actively refused it",
     "output_type": "error",
     "traceback": [
      "\u001b[1;31m---------------------------------------------------------------------------\u001b[0m",
      "\u001b[1;31mConnectionRefusedError\u001b[0m                    Traceback (most recent call last)",
      "Cell \u001b[1;32mIn[6], line 7\u001b[0m\n\u001b[0;32m      4\u001b[0m memcache_client \u001b[38;5;241m=\u001b[39m Client((\u001b[38;5;124m'\u001b[39m\u001b[38;5;124mlocalhost\u001b[39m\u001b[38;5;124m'\u001b[39m, \u001b[38;5;241m11211\u001b[39m))\n\u001b[0;32m      6\u001b[0m \u001b[38;5;66;03m# Set and Get a Key-Value Pair\u001b[39;00m\n\u001b[1;32m----> 7\u001b[0m \u001b[43mmemcache_client\u001b[49m\u001b[38;5;241;43m.\u001b[39;49m\u001b[43mset\u001b[49m\u001b[43m(\u001b[49m\u001b[38;5;124;43m'\u001b[39;49m\u001b[38;5;124;43mkey1\u001b[39;49m\u001b[38;5;124;43m'\u001b[39;49m\u001b[43m,\u001b[49m\u001b[43m \u001b[49m\u001b[38;5;124;43m'\u001b[39;49m\u001b[38;5;124;43mvalue1\u001b[39;49m\u001b[38;5;124;43m'\u001b[39;49m\u001b[43m)\u001b[49m\n\u001b[0;32m      8\u001b[0m value \u001b[38;5;241m=\u001b[39m memcache_client\u001b[38;5;241m.\u001b[39mget(\u001b[38;5;124m'\u001b[39m\u001b[38;5;124mkey1\u001b[39m\u001b[38;5;124m'\u001b[39m)\n\u001b[0;32m      9\u001b[0m \u001b[38;5;28mprint\u001b[39m(\u001b[38;5;124mf\u001b[39m\u001b[38;5;124m\"\u001b[39m\u001b[38;5;124mMemcached: Key1 -> \u001b[39m\u001b[38;5;132;01m{\u001b[39;00mvalue\u001b[38;5;241m.\u001b[39mdecode()\u001b[38;5;132;01m}\u001b[39;00m\u001b[38;5;124m\"\u001b[39m)  \u001b[38;5;66;03m# Output: Memcached: Key1 -> value1\u001b[39;00m\n",
      "File \u001b[1;32mc:\\Users\\Capaciti\\AppData\\Local\\Programs\\Python\\Python311\\Lib\\site-packages\\pymemcache\\client\\base.py:475\u001b[0m, in \u001b[0;36mClient.set\u001b[1;34m(self, key, value, expire, noreply, flags)\u001b[0m\n\u001b[0;32m    472\u001b[0m     noreply \u001b[38;5;241m=\u001b[39m \u001b[38;5;28mself\u001b[39m\u001b[38;5;241m.\u001b[39mdefault_noreply\n\u001b[0;32m    473\u001b[0m \u001b[38;5;66;03m# Optional because _store_cmd lookup in STORE_RESULTS_VALUE can return None in some cases.\u001b[39;00m\n\u001b[0;32m    474\u001b[0m \u001b[38;5;66;03m# TODO: refactor to fix\u001b[39;00m\n\u001b[1;32m--> 475\u001b[0m \u001b[38;5;28;01mreturn\u001b[39;00m \u001b[38;5;28;43mself\u001b[39;49m\u001b[38;5;241;43m.\u001b[39;49m\u001b[43m_store_cmd\u001b[49m\u001b[43m(\u001b[49m\u001b[38;5;124;43mb\u001b[39;49m\u001b[38;5;124;43m\"\u001b[39;49m\u001b[38;5;124;43mset\u001b[39;49m\u001b[38;5;124;43m\"\u001b[39;49m\u001b[43m,\u001b[49m\u001b[43m \u001b[49m\u001b[43m{\u001b[49m\u001b[43mkey\u001b[49m\u001b[43m:\u001b[49m\u001b[43m \u001b[49m\u001b[43mvalue\u001b[49m\u001b[43m}\u001b[49m\u001b[43m,\u001b[49m\u001b[43m \u001b[49m\u001b[43mexpire\u001b[49m\u001b[43m,\u001b[49m\u001b[43m \u001b[49m\u001b[43mnoreply\u001b[49m\u001b[43m,\u001b[49m\u001b[43m \u001b[49m\u001b[43mflags\u001b[49m\u001b[38;5;241;43m=\u001b[39;49m\u001b[43mflags\u001b[49m\u001b[43m)\u001b[49m[key]\n",
      "File \u001b[1;32mc:\\Users\\Capaciti\\AppData\\Local\\Programs\\Python\\Python311\\Lib\\site-packages\\pymemcache\\client\\base.py:1228\u001b[0m, in \u001b[0;36mClient._store_cmd\u001b[1;34m(self, name, values, expire, noreply, flags, cas)\u001b[0m\n\u001b[0;32m   1211\u001b[0m     cmds\u001b[38;5;241m.\u001b[39mappend(\n\u001b[0;32m   1212\u001b[0m         name\n\u001b[0;32m   1213\u001b[0m         \u001b[38;5;241m+\u001b[39m \u001b[38;5;124mb\u001b[39m\u001b[38;5;124m\"\u001b[39m\u001b[38;5;124m \u001b[39m\u001b[38;5;124m\"\u001b[39m\n\u001b[1;32m   (...)\u001b[0m\n\u001b[0;32m   1224\u001b[0m         \u001b[38;5;241m+\u001b[39m \u001b[38;5;124mb\u001b[39m\u001b[38;5;124m\"\u001b[39m\u001b[38;5;130;01m\\r\u001b[39;00m\u001b[38;5;130;01m\\n\u001b[39;00m\u001b[38;5;124m\"\u001b[39m\n\u001b[0;32m   1225\u001b[0m     )\n\u001b[0;32m   1227\u001b[0m \u001b[38;5;28;01mif\u001b[39;00m \u001b[38;5;28mself\u001b[39m\u001b[38;5;241m.\u001b[39msock \u001b[38;5;129;01mis\u001b[39;00m \u001b[38;5;28;01mNone\u001b[39;00m:\n\u001b[1;32m-> 1228\u001b[0m     \u001b[38;5;28;43mself\u001b[39;49m\u001b[38;5;241;43m.\u001b[39;49m\u001b[43m_connect\u001b[49m\u001b[43m(\u001b[49m\u001b[43m)\u001b[49m\n\u001b[0;32m   1230\u001b[0m     \u001b[38;5;66;03m# For typing\u001b[39;00m\n\u001b[0;32m   1231\u001b[0m     \u001b[38;5;28;01massert\u001b[39;00m \u001b[38;5;28mself\u001b[39m\u001b[38;5;241m.\u001b[39msock \u001b[38;5;129;01mis\u001b[39;00m \u001b[38;5;129;01mnot\u001b[39;00m \u001b[38;5;28;01mNone\u001b[39;00m\n",
      "File \u001b[1;32mc:\\Users\\Capaciti\\AppData\\Local\\Programs\\Python\\Python311\\Lib\\site-packages\\pymemcache\\client\\base.py:424\u001b[0m, in \u001b[0;36mClient._connect\u001b[1;34m(self)\u001b[0m\n\u001b[0;32m    416\u001b[0m         sock\u001b[38;5;241m.\u001b[39msetsockopt(\n\u001b[0;32m    417\u001b[0m             socket\u001b[38;5;241m.\u001b[39mIPPROTO_TCP,\n\u001b[0;32m    418\u001b[0m             socket\u001b[38;5;241m.\u001b[39mTCP_KEEPINTVL,\n\u001b[0;32m    419\u001b[0m             \u001b[38;5;28mself\u001b[39m\u001b[38;5;241m.\u001b[39msocket_keepalive\u001b[38;5;241m.\u001b[39mintvl,\n\u001b[0;32m    420\u001b[0m         )\n\u001b[0;32m    421\u001b[0m         sock\u001b[38;5;241m.\u001b[39msetsockopt(\n\u001b[0;32m    422\u001b[0m             socket\u001b[38;5;241m.\u001b[39mIPPROTO_TCP, socket\u001b[38;5;241m.\u001b[39mTCP_KEEPCNT, \u001b[38;5;28mself\u001b[39m\u001b[38;5;241m.\u001b[39msocket_keepalive\u001b[38;5;241m.\u001b[39mcnt\n\u001b[0;32m    423\u001b[0m         )\n\u001b[1;32m--> 424\u001b[0m     \u001b[43msock\u001b[49m\u001b[38;5;241;43m.\u001b[39;49m\u001b[43mconnect\u001b[49m\u001b[43m(\u001b[49m\u001b[43msockaddr\u001b[49m\u001b[43m)\u001b[49m\n\u001b[0;32m    425\u001b[0m     sock\u001b[38;5;241m.\u001b[39msettimeout(\u001b[38;5;28mself\u001b[39m\u001b[38;5;241m.\u001b[39mtimeout)\n\u001b[0;32m    426\u001b[0m \u001b[38;5;28;01mexcept\u001b[39;00m \u001b[38;5;167;01mException\u001b[39;00m:\n",
      "\u001b[1;31mConnectionRefusedError\u001b[0m: [WinError 10061] No connection could be made because the target machine actively refused it"
     ]
    }
   ],
   "source": [
    "from pymemcache.client.base import Client\n",
    "\n",
    "# Connect to Memcached\n",
    "memcache_client = Client(('localhost', 11211))\n",
    "\n",
    "# Set and Get a Key-Value Pair\n",
    "memcache_client.set('key1', 'value1')\n",
    "value = memcache_client.get('key1')\n",
    "print(f\"Memcached: Key1 -> {value.decode()}\")  # Output: Memcached: Key1 -> value1\n",
    "\n",
    "# Delete a Key\n",
    "memcache_client.delete('key1')\n",
    "print(memcache_client.get('key1'))  # Output: None\n"
   ]
  },
  {
   "cell_type": "code",
   "execution_count": 7,
   "metadata": {},
   "outputs": [
    {
     "name": "stdout",
     "output_type": "stream",
     "text": [
      "Connected to Redis!\n"
     ]
    }
   ],
   "source": [
    "import redis\n",
    "\n",
    "try:\n",
    "    redis_client = redis.Redis(host='localhost', port=6379)\n",
    "    redis_client.ping()\n",
    "    print(\"Connected to Redis!\")\n",
    "except ConnectionRefusedError:\n",
    "    print(\"Connection to Redis refused.\")\n"
   ]
  },
  {
   "cell_type": "code",
   "execution_count": 8,
   "metadata": {},
   "outputs": [
    {
     "name": "stdout",
     "output_type": "stream",
     "text": [
      "Connection to Memcached refused.\n"
     ]
    }
   ],
   "source": [
    "from pymemcache.client.base import Client\n",
    "\n",
    "try:\n",
    "    memcache_client = Client(('localhost', 11211))\n",
    "    memcache_client.set('test', 'value')\n",
    "    print(\"Connected to Memcached!\")\n",
    "except ConnectionRefusedError:\n",
    "    print(\"Connection to Memcached refused.\")\n"
   ]
  },
  {
   "cell_type": "code",
   "execution_count": 13,
   "metadata": {},
   "outputs": [
    {
     "name": "stdout",
     "output_type": "stream",
     "text": [
      "Failed to connect to Memcached: [WinError 10061] No connection could be made because the target machine actively refused it\n"
     ]
    }
   ],
   "source": [
    "from pymemcache.client.base import Client\n",
    "\n",
    "try:\n",
    "    memcache_client = Client(('127.0.0.1', 11211))  # Explicit IP\n",
    "    memcache_client.set('test', 'value')\n",
    "    print(\"Connected to Memcached!\")\n",
    "except Exception as e:\n",
    "    print(f\"Failed to connect to Memcached: {e}\")\n"
   ]
  },
  {
   "cell_type": "code",
   "execution_count": 12,
   "metadata": {},
   "outputs": [
    {
     "name": "stdout",
     "output_type": "stream",
     "text": [
      "Requirement already satisfied: python-memcached in c:\\users\\capaciti\\appdata\\local\\programs\\python\\python311\\lib\\site-packages (1.62)\n",
      "Note: you may need to restart the kernel to use updated packages.\n"
     ]
    },
    {
     "name": "stderr",
     "output_type": "stream",
     "text": [
      "\n",
      "[notice] A new release of pip is available: 23.1.2 -> 24.3.1\n",
      "[notice] To update, run: python.exe -m pip install --upgrade pip\n"
     ]
    }
   ],
   "source": [
    "pip install python-memcached"
   ]
  },
  {
   "cell_type": "code",
   "execution_count": 3,
   "metadata": {},
   "outputs": [
    {
     "name": "stdout",
     "output_type": "stream",
     "text": [
      "Collecting redisNote: you may need to restart the kernel to use updated packages.\n",
      "\n",
      "  Downloading redis-5.2.0-py3-none-any.whl (261 kB)\n",
      "                                              0.0/261.4 kB ? eta -:--:--\n",
      "     ----------------                       112.6/261.4 kB 6.4 MB/s eta 0:00:01\n",
      "     ----------------------------------     235.5/261.4 kB 4.8 MB/s eta 0:00:01\n",
      "     -------------------------------------- 261.4/261.4 kB 3.2 MB/s eta 0:00:00\n",
      "Installing collected packages: redis\n",
      "Successfully installed redis-5.2.0\n"
     ]
    },
    {
     "name": "stderr",
     "output_type": "stream",
     "text": [
      "\n",
      "[notice] A new release of pip is available: 23.1.2 -> 24.3.1\n",
      "[notice] To update, run: python.exe -m pip install --upgrade pip\n"
     ]
    }
   ],
   "source": [
    "pip install redis"
   ]
  }
 ],
 "metadata": {
  "kernelspec": {
   "display_name": "Python 3",
   "language": "python",
   "name": "python3"
  },
  "language_info": {
   "codemirror_mode": {
    "name": "ipython",
    "version": 3
   },
   "file_extension": ".py",
   "mimetype": "text/x-python",
   "name": "python",
   "nbconvert_exporter": "python",
   "pygments_lexer": "ipython3",
   "version": "3.11.4"
  }
 },
 "nbformat": 4,
 "nbformat_minor": 2
}
