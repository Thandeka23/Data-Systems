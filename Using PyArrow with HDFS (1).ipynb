{
 "cells": [
  {
   "cell_type": "code",
   "execution_count": null,
   "id": "ddf6fabe-df37-4a75-9bac-426dcab32113",
   "metadata": {},
   "outputs": [],
   "source": [
    "import pyarrow as pa\n",
    "import pyarrow.hdfs as hdfs\n",
    "\n",
    "# Connect to HDFS\n",
    "hdfs_client = hdfs.connect('localhost', 50070)\n",
    "\n",
    "# Write a file to HDFS\n",
    "with hdfs_client.open('/path/to/hdfs/file.txt', 'wb') as f:\n",
    "    f.write(b'Hello, HDFS!')\n",
    "\n",
    "# Read a file from HDFS\n",
    "with hdfs_client.open('/path/to/hdfs/file.txt', 'rb') as f:\n",
    "    data = f.read()\n",
    "    print(data.decode('utf-8'))"
   ]
  }
 ],
 "metadata": {
  "kernelspec": {
   "display_name": "Python 3 (ipykernel)",
   "language": "python",
   "name": "python3"
  },
  "language_info": {
   "codemirror_mode": {
    "name": "ipython",
    "version": 3
   },
   "file_extension": ".py",
   "mimetype": "text/x-python",
   "name": "python",
   "nbconvert_exporter": "python",
   "pygments_lexer": "ipython3",
   "version": "3.12.4"
  }
 },
 "nbformat": 4,
 "nbformat_minor": 5
}
