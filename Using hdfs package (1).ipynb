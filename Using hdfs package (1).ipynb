{
 "cells": [
  {
   "cell_type": "code",
   "execution_count": null,
   "id": "3084b737-37bb-4140-933e-65a7ec229efe",
   "metadata": {},
   "outputs": [],
   "source": [
    "from hdfs import InsecureClient\n",
    "\n",
    "# Connect to HDFS\n",
    "client = InsecureClient('http://localhost:50070', user='hdfs')\n",
    "\n",
    "# Upload a file to HDFS\n",
    "client.upload('/path/to/hdfs/file.txt', '/local/path/to/file.txt')\n",
    "\n",
    "# Download a file from HDFS\n",
    "client.download('/path/to/hdfs/file.txt', '/local/path/to/downloaded_file.txt')"
   ]
  }
 ],
 "metadata": {
  "kernelspec": {
   "display_name": "Python 3 (ipykernel)",
   "language": "python",
   "name": "python3"
  },
  "language_info": {
   "codemirror_mode": {
    "name": "ipython",
    "version": 3
   },
   "file_extension": ".py",
   "mimetype": "text/x-python",
   "name": "python",
   "nbconvert_exporter": "python",
   "pygments_lexer": "ipython3",
   "version": "3.12.4"
  }
 },
 "nbformat": 4,
 "nbformat_minor": 5
}
